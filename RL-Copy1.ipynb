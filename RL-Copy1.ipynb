{
 "cells": [
  {
   "cell_type": "code",
   "execution_count": 1,
   "metadata": {},
   "outputs": [],
   "source": [
    "import tensorflow as tf\n",
    "import os\n",
    "from dqn.agent.dqn_agent import Agent\n",
    "from dqn.environment.atari_env import Environment\n",
    "from dqn.utils.memory import ReplayMemory, Transition"
   ]
  },
  {
   "cell_type": "code",
   "execution_count": 2,
   "metadata": {},
   "outputs": [],
   "source": [
    "load_dir = './log/dqn_weights'\n",
    "max_playing_time=10"
   ]
  },
  {
   "cell_type": "code",
   "execution_count": null,
   "metadata": {
    "scrolled": true
   },
   "outputs": [
    {
     "name": "stdout",
     "output_type": "stream",
     "text": [
      "Episode:  100\n",
      "Latest 100 avg: 0.2000\n",
      "Progress: 3025 / 10000000 ( 0.00 % )\n",
      "Episode:  200\n",
      "Latest 100 avg: 0.3300\n",
      "Progress: 6599 / 10000000 ( 0.10 % )\n",
      "Episode:  300\n",
      "Latest 100 avg: 0.2800\n",
      "Progress: 10037 / 10000000 ( 0.10 % )\n",
      "Episode:  400\n",
      "Latest 100 avg: 0.2000\n",
      "Progress: 13121 / 10000000 ( 0.10 % )\n",
      "Episode:  500\n",
      "Latest 100 avg: 0.2000\n",
      "Progress: 16226 / 10000000 ( 0.20 % )\n",
      "Episode:  600\n",
      "Latest 100 avg: 0.2700\n",
      "Progress: 19676 / 10000000 ( 0.20 % )\n",
      "Episode:  700\n",
      "Latest 100 avg: 0.2000\n",
      "Progress: 22740 / 10000000 ( 0.20 % )\n",
      "Episode:  800\n",
      "Latest 100 avg: 0.1500\n",
      "Progress: 25613 / 10000000 ( 0.30 % )\n"
     ]
    }
   ],
   "source": [
    "agent = Agent(game_id='BreakoutNoFrameskip-v4')\n",
    "agent.print_log_interval = 100\n",
    "agent.save_weight_interval = 1000\n",
    "\n",
    "agent.train()"
   ]
  }
 ],
 "metadata": {
  "kernelspec": {
   "display_name": "base",
   "language": "python",
   "name": "base"
  },
  "language_info": {
   "codemirror_mode": {
    "name": "ipython",
    "version": 3
   },
   "file_extension": ".py",
   "mimetype": "text/x-python",
   "name": "python",
   "nbconvert_exporter": "python",
   "pygments_lexer": "ipython3",
   "version": "3.8.2"
  }
 },
 "nbformat": 4,
 "nbformat_minor": 4
}
